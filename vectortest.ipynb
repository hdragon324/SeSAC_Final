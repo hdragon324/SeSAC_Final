{
 "cells": [
  {
   "cell_type": "markdown",
   "metadata": {},
   "source": [
    "## Vector 기반의 유사도 검색 후 RAG로 공고 요약을 해보자!"
   ]
  },
  {
   "cell_type": "code",
   "execution_count": 1,
   "metadata": {},
   "outputs": [],
   "source": [
    "import json\n",
    "import numpy as np\n",
    "import faiss\n",
    "\n",
    "from langchain_community.vectorstores import FAISS\n",
    "from sentence_transformers import SentenceTransformer\n",
    "from openai import OpenAI\n",
    "from getpass import getpass\n",
    "from tqdm import tqdm\n",
    "\n",
    "from utils.get_text import get_hwp_text, get_pdf_text # pdf, hwp에서 텍스트를 추출하는 사용자 지정 함수 "
   ]
  },
  {
   "cell_type": "markdown",
   "metadata": {},
   "source": [
    "#### model 구현 준비\n",
    "- OpenAI 객체 생성\n",
    "- 파일 텍스트 추출\n",
    "- model이 참고할 기본 템플릿 작성"
   ]
  },
  {
   "cell_type": "code",
   "execution_count": 2,
   "metadata": {},
   "outputs": [],
   "source": [
    "# # 개인의 API key를 입력\n",
    "# MY_API_KEY = getpass(\"OpenAI API Key\")\n",
    "\n",
    "# #OpenAI 객체 생성\n",
    "# client = OpenAI(api_key=MY_API_KEY)"
   ]
  },
  {
   "cell_type": "markdown",
   "metadata": {},
   "source": [
    "- 문장을 벡터로 임베딩할 모델로드"
   ]
  },
  {
   "cell_type": "code",
   "execution_count": 3,
   "metadata": {},
   "outputs": [],
   "source": [
    "# Sentence-Transformers 라이브러리에서 모델 로드\n",
    "# \"intfloat/multilingual-e5-large\" 모델은 다양한 언어에서 문장 임베딩을 생성할 수 있는 모델\n",
    "model = SentenceTransformer(\"intfloat/multilingual-e5-large\")"
   ]
  },
  {
   "cell_type": "markdown",
   "metadata": {},
   "source": [
    "#### 데이터 임베딩 진행\n",
    "- 데이터 로드 및 각각의 공고문 텍스트 가져오기\n",
    "- 텍스트를 Vector화"
   ]
  },
  {
   "cell_type": "code",
   "execution_count": 4,
   "metadata": {},
   "outputs": [],
   "source": [
    "biz_embeddings = [] # 벡터를 저장할 리스트\n",
    "biz_names = [] # 공고명을 저장할 리스트"
   ]
  },
  {
   "cell_type": "code",
   "execution_count": 5,
   "metadata": {},
   "outputs": [],
   "source": [
    "with open('data/bizinfo_2.json', 'r', encoding='utf-8') as f:\n",
    "    data = json.load(f)"
   ]
  },
  {
   "cell_type": "code",
   "execution_count": 6,
   "metadata": {},
   "outputs": [
    {
     "name": "stderr",
     "output_type": "stream",
     "text": [
      "100%|██████████| 163/163 [08:24<00:00,  3.10s/it]\n"
     ]
    },
    {
     "name": "stdout",
     "output_type": "stream",
     "text": [
      "✅ 벡터가 추가된 JSON 파일 저장 완료!\n"
     ]
    }
   ],
   "source": [
    "for item in tqdm(data['금융']):\n",
    "    file_path = item[\"공고파일명\"]\n",
    "\n",
    "    # 지원사업 텍스트 추출 (PDF/HWP 처리 함수 필요)\n",
    "    if file_path.endswith(\".pdf\"):\n",
    "        full_text = get_pdf_text(file_path)\n",
    "    elif file_path.endswith(\".hwp\"):\n",
    "        full_text = get_hwp_text(file_path)\n",
    "    else:\n",
    "        full_text = \"\"\n",
    "\n",
    "    # 벡터화 및 정규화\n",
    "    vector = model.encode(full_text)\n",
    "    vector = vector / np.linalg.norm(vector)  # 정규화 (선택적)\n",
    "\n",
    "    # 'vector' 키 추가\n",
    "    item[\"vector\"] = vector.tolist()  # JSON 저장을 위해 리스트로 변환\n",
    "\n",
    "\n",
    "# 변환된 데이터를 JSON 파일로 저장\n",
    "with open(\"data/data_with_vectors_2.json\", \"w\", encoding=\"utf-8\") as f:\n",
    "    json.dump(data, f, ensure_ascii=False, indent=4)\n",
    "\n",
    "print(\"✅ 벡터가 추가된 JSON 파일 저장 완료!\")"
   ]
  },
  {
   "cell_type": "code",
   "execution_count": 7,
   "metadata": {},
   "outputs": [
    {
     "name": "stdout",
     "output_type": "stream",
     "text": [
      "🔍 검색 결과:\n",
      "1. 지원사업명: [충북] 2025년 사회적기업 육성자금 이차보전금 지원계획 공고 (유사도 점수: 0.2583)\n",
      "2. 지원사업명: 2025년 소상공인 대환대출 지원계획 공고 (유사도 점수: 0.2632)\n",
      "3. 지원사업명: 2025년 중소벤처기업부 소관 소상공인 정책자금 융자계획 공고 (유사도 점수: 0.2682)\n",
      "4. 지원사업명: [충남] 2025년 중소기업육성자금 지원계획 공고 (유사도 점수: 0.2716)\n",
      "5. 지원사업명: [충북] 2025년 중소기업육성자금 융자(이차보전) 지원계획 공고 (유사도 점수: 0.2734)\n"
     ]
    }
   ],
   "source": [
    "for category, items in data.items():\n",
    "    for item in items:\n",
    "        if \"vector\" in item:  # 벡터 정보가 있는 경우만 추가\n",
    "            biz_embeddings.append(np.array(item[\"vector\"]))  # 리스트 → numpy 배열 변환\n",
    "            biz_names.append(item[\"지원사업 공고명\"])\n",
    "\n",
    "# FAISS 인덱스 생성\n",
    "biz_dimension = len(biz_embeddings[0])  # 벡터 차원 수\n",
    "biz_index = faiss.IndexFlatL2(biz_dimension)  # L2 거리 기반 인덱스\n",
    "biz_index.add(np.array(biz_embeddings))  # 벡터 추가\n",
    "\n",
    "# ✅ 사용자 입력을 벡터화\n",
    "query = '''**사업자 유형** - 개인사업자, 법인사업자, 기존사업자\n",
    ":확인_표시가_있는_투표함: **지원업종** - 제조업, 정보통신업, 건설업, 운수업, 서비스업\n",
    "지역 충북\n",
    "신청기간 현재 진행중인 것.\n",
    "대표자생년월일 x\n",
    "성별 x\n",
    "매출 x\n",
    "종업원수 x'''\n",
    "query_vector = model.encode(query).reshape(1, -1)\n",
    "query_vector = query_vector / np.linalg.norm(query_vector)  # 정규화\n",
    "\n",
    "# ✅ FAISS를 이용한 유사도 검색\n",
    "top_k = 5  # 검색할 개수\n",
    "distances, indices = biz_index.search(query_vector, top_k)\n",
    "\n",
    "# ✅ 검색 결과 출력\n",
    "print(\"🔍 검색 결과:\")\n",
    "for i, idx in enumerate(indices[0]):\n",
    "    print(f\"{i+1}. 지원사업명: {biz_names[idx]} (유사도 점수: {distances[0][i]:.4f})\")"
   ]
  },
  {
   "cell_type": "code",
   "execution_count": null,
   "metadata": {},
   "outputs": [],
   "source": []
  },
  {
   "cell_type": "code",
   "execution_count": null,
   "metadata": {},
   "outputs": [],
   "source": [
    "\n"
   ]
  },
  {
   "cell_type": "code",
   "execution_count": null,
   "metadata": {},
   "outputs": [],
   "source": []
  },
  {
   "cell_type": "code",
   "execution_count": null,
   "metadata": {},
   "outputs": [],
   "source": []
  }
 ],
 "metadata": {
  "kernelspec": {
   "display_name": "new",
   "language": "python",
   "name": "python3"
  },
  "language_info": {
   "codemirror_mode": {
    "name": "ipython",
    "version": 3
   },
   "file_extension": ".py",
   "mimetype": "text/x-python",
   "name": "python",
   "nbconvert_exporter": "python",
   "pygments_lexer": "ipython3",
   "version": "3.12.8"
  }
 },
 "nbformat": 4,
 "nbformat_minor": 2
}
