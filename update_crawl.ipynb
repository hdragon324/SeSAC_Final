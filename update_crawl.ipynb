{
 "cells": [
  {
   "cell_type": "markdown",
   "metadata": {},
   "source": [
    "### 지원사업공고 update (추가, 수정, 삭제)"
   ]
  },
  {
   "cell_type": "code",
   "execution_count": 10,
   "metadata": {},
   "outputs": [],
   "source": [
    "import requests\n",
    "import json\n",
    "\n",
    "from bs4 import BeautifulSoup\n",
    "from tqdm import tqdm\n",
    "from datetime import datetime\n",
    "\n",
    "import json\n",
    "import numpy as np\n",
    "import re\n",
    "\n",
    "from sentence_transformers import SentenceTransformer\n",
    "from tqdm import tqdm\n",
    "\n",
    "from utils.get_text import get_hwp_text, get_pdf_text, get_image_text # pdf, hwp, png에서 텍스트를 추출하는 사용자 지정 함수\n",
    "from utils.summary import fine_tune_summary # fine-tune 모델을 사용하여 요약 진행행"
   ]
  },
  {
   "cell_type": "code",
   "execution_count": 11,
   "metadata": {},
   "outputs": [],
   "source": [
    "# 사이트 접속 차단을 받지 않기 위한 header 지정\n",
    "header = {\n",
    "    'User-Agent':'Mozilla/5.0 (Windows NT 10.0; Win64; x64) AppleWebKit/537.36 (KHTML, like Gecko) Chrome/131.0.0.0 Safari/537.36'\n",
    "}\n",
    "\n",
    "# 기업마당의 해시코드를 저장해놓은 dictionary\n",
    "hashcode_dict = {'01':'금융',\n",
    "                '02':'기술',\n",
    "                '03':'인력',\n",
    "                '07':'수출',\n",
    "                '08':'내수',\n",
    "                '09':'창업',\n",
    "                '10':'경영',\n",
    "                '12':'기타'}\n",
    "\n",
    "# key-value를 반대로 저장\n",
    "reverse_dict = {value: key for key, value in hashcode_dict.items()}"
   ]
  },
  {
   "cell_type": "code",
   "execution_count": 12,
   "metadata": {},
   "outputs": [],
   "source": [
    "# Sentence-Transformers 라이브러리에서 모델 로드\n",
    "# \"intfloat/multilingual-e5-large\" 모델은 다양한 언어에서 문장 임베딩을 생성할 수 있는 모델\n",
    "model = SentenceTransformer(\"intfloat/multilingual-e5-large\")"
   ]
  },
  {
   "cell_type": "code",
   "execution_count": 13,
   "metadata": {},
   "outputs": [],
   "source": [
    "def download_file(URL, header=header, model=model):\n",
    "    '''지원사업 공고에 있는 파일을 다운로드하는 함수'''\n",
    "    # bs4로 해당 URL의 html 구조 파싱\n",
    "    response = requests.get(URL, headers=header)\n",
    "    soup = BeautifulSoup(response.text, 'html.parser')\n",
    "\n",
    "    # 파일의 정보를 담을 빈 딕셔너리 선언\n",
    "    file_info = {}\n",
    "\n",
    "    # 다운로드 파일 링크를 담을 빈 리스트 / 파일명을 담을 빈 문자열 선언\n",
    "    down_link, down_title = [], ''\n",
    "\n",
    "    # '본문출력파일'의 파일만 다운로드 하도록 수행하는 반복문 + 조건문\n",
    "    for idx in range(len(soup.select('div.attached_file_list h3'))):\n",
    "        if soup.select('div.attached_file_list h3')[idx].text == '본문출력파일':\n",
    "            down_link = soup.select('div.attached_file_list div.right_btn')[-1].select('a')\n",
    "            file_path = soup.select_one('div.category span').text.strip()\n",
    "\n",
    "            # 다운 받을 공고문 파일의 이름을 공고문의 title로 바꿔서 정리\n",
    "            file_title = soup.select_one('h2.title').text.strip()\n",
    "            file_type = soup.select('div.attached_file_list div.file_name')[-1].text.strip().split('.')[-1]\n",
    "            down_title = file_title + '.' + file_type\n",
    "\n",
    "        else:\n",
    "            continue\n",
    "\n",
    "    # 다운로드 파일링크는 내부 url이기 때문에 앞에 도메인 주소를 붙여줘야 함.\n",
    "    base_url = 'https://www.bizinfo.go.kr'\n",
    "    down_url = base_url + down_link[1].attrs['href']\n",
    "    \n",
    "\n",
    "    # 다운로드된 파일을 저장할 파일 경로\n",
    "    save_path = f'C:/Users/every/Desktop/Blog/real_real_test/AI-for-Creating-Business-Plan-Drafts/{file_path}/{down_title}'\n",
    "    vector_path = f'{file_path}/{down_title}'\n",
    "\n",
    "    # HTTP 요청을 보내 파일 다운로드\n",
    "    response = requests.get(down_url, stream=True)\n",
    "    try:\n",
    "        with open(save_path, \"wb\") as file:\n",
    "            for chunk in response.iter_content(1024):  # 1024바이트씩 저장\n",
    "                file.write(chunk)\n",
    "    except:\n",
    "        print(f\"파일 다운로드 실패. 상태 코드: {response.status_code}\")\n",
    "        print(f\"다운로드 실패한 공고 명 : {down_title}\")\n",
    "\n",
    "\n",
    "    # 파일의 정보를 딕셔너리 형태로 담음\n",
    "    # 프레임으로 관리 및 공고 수정 사항을 빠르게 탐색하기 위한 정보 모음집\n",
    "    file_info['지원사업 공고명'] = file_title\n",
    "    file_info['소관부처·지자체'] = soup.select('div.view_cont li div.txt')[0].text.strip()\n",
    "    file_info['사업수행기관'] = soup.select('div.view_cont li div.txt')[1].text.strip()\n",
    "    file_info['신청기간'] = soup.select('div.view_cont li div.txt')[2].text.strip().replace(\"\\r\", \" \").replace(\"\\n\", \"\").replace(\"\\t\", \"\")\n",
    "    file_info['공고파일명'] = file_path + '/' + down_title\n",
    "\n",
    "    # 지원사업 텍스트 추출 (PDF/HWP 처리 함수 필요)\n",
    "    if vector_path.endswith(\"pdf\"):\n",
    "        full_text = get_pdf_text(vector_path)\n",
    "    elif vector_path.endswith(\"hwp\"):\n",
    "        full_text = get_hwp_text(vector_path)\n",
    "    elif vector_path.endswith(\"png\"):\n",
    "        full_text = get_image_text(vector_path)\n",
    "\n",
    "    # 벡터화 및 정규화\n",
    "    vector = model.encode(full_text)\n",
    "    vector = vector / np.linalg.norm(vector)  # 정규화 (선택적)\n",
    "\n",
    "    # 'vector' 키 추가\n",
    "    file_info[\"vector\"] = vector.tolist()  # JSON 저장을 위해 리스트로 변환\n",
    "\n",
    "    full_text = re.sub(r'[\\uf000-\\uf999\\x00-\\x1F]', '', full_text) ## 제어 문자 제거\n",
    "    claeaned_text = re.sub(r'\\s+', ' ', full_text).strip() ## 여러 개의 공백을 하나로 줄임\n",
    "\n",
    "    # fine-tuning으로 요약 진행\n",
    "    summary = fine_tune_summary(claeaned_text, file_title)\n",
    "\n",
    "    file_info['summary'] = summary\n",
    "    \n",
    "    return file_info, file_path\n",
    "\n",
    "def fetch_links(hashcode, header=header):\n",
    "    '''기업마당의 메인에 있는 공고 각각의 URL을 리스트로 반환'''\n",
    "\n",
    "    # 기업마당의 공고 URL은 BASE_URL + td class='txt_l a'의 형식으로 되어 있음\n",
    "    BASE_URL = 'https://www.bizinfo.go.kr/web/lay1/bbs/S1T122C128/AS/74/'\n",
    "    idx = 1         # 페이지를 넘기기 위한 인덱스\n",
    "    links = []      # 링크를 정리해둘 리스트 선언\n",
    "\n",
    "    # 공고가 없는 페이지가 나올 때까지 반복문\n",
    "    while True:\n",
    "        URL = f'https://www.bizinfo.go.kr/web/lay1/bbs/S1T122C128/AS/74/list.do?hashCode={hashcode}&cpage={idx}'\n",
    "        response = requests.get(URL, headers=header)\n",
    "        soup = BeautifulSoup(response.text, 'html.parser')\n",
    "\n",
    "        # 공고가 없는 페이지가 나올 시 반복문 탈출\n",
    "        if len(soup.select('div.sub_cont tr')) == 2:\n",
    "            break\n",
    "        \n",
    "        # links에 URL 저장\n",
    "        # 해당 페이지에 있는 전체 URL에 대하여 실행\n",
    "        links += [BASE_URL + link.attrs['href'] for link in soup.select('td.txt_l a')]\n",
    "\n",
    "        # 페이지 넘김\n",
    "        idx += 1\n",
    "\n",
    "    return links\n",
    "\n",
    "def update_fetch_links(hashcode, header=header):\n",
    "    '''기업마당의 메인에 있는 공고 각각의 URL을 리스트로 반환'''\n",
    "\n",
    "    # 기업마당의 공고 URL은 BASE_URL + td class='txt_l a'의 형식으로 되어 있음\n",
    "    BASE_URL = 'https://www.bizinfo.go.kr/web/lay1/bbs/S1T122C128/AS/74/'\n",
    "    idx = 1         # 페이지를 넘기기 위한 인덱스\n",
    "    links, titles = [], []     # 링크를 정리해둘 리스트 선언\n",
    "\n",
    "    # 공고가 없는 페이지가 나올 때까지 반복문\n",
    "    while True:\n",
    "        URL = f'https://www.bizinfo.go.kr/web/lay1/bbs/S1T122C128/AS/74/list.do?hashCode={hashcode}&cpage={idx}'\n",
    "        response = requests.get(URL, headers=header)\n",
    "        soup = BeautifulSoup(response.text, 'html.parser')\n",
    "\n",
    "        # 공고가 없는 페이지가 나올 시 반복문 탈출\n",
    "        if len(soup.select('div.sub_cont tr')) == 2:\n",
    "            break\n",
    "        \n",
    "        # links에 URL 저장\n",
    "        # 해당 페이지에 있는 전체 URL에 대하여 실행\n",
    "        links += [BASE_URL + link.attrs['href'] for link in soup.select('td.txt_l a')]\n",
    "        titles += [title.text.strip() for title in soup.select('td.txt_l a')]\n",
    "\n",
    "        # 페이지 넘김\n",
    "        idx += 1\n",
    "\n",
    "    return links, titles"
   ]
  },
  {
   "cell_type": "markdown",
   "metadata": {},
   "source": [
    "### 금융에 대해서만 update"
   ]
  },
  {
   "cell_type": "code",
   "execution_count": 14,
   "metadata": {},
   "outputs": [],
   "source": [
    "# 기존에 저장되어있는 지원사업 공고 파일 및 지난 공고를 불러옴\n",
    "with open('data/latest_biz.json', 'r', encoding='utf-8') as f:\n",
    "    data = json.load(f)\n",
    "\n",
    "with open('data/previous_biz.json', 'r', encoding='utf-8') as f:\n",
    "    old_infos = json.load(f)"
   ]
  },
  {
   "cell_type": "code",
   "execution_count": 15,
   "metadata": {},
   "outputs": [
    {
     "name": "stdout",
     "output_type": "stream",
     "text": [
      "전날 금융의 공고 개수 : 175, 지난 공고의 개수 : 1\n"
     ]
    }
   ],
   "source": [
    "# 개수 확인용 출력\n",
    "print(f'전날 금융의 공고 개수 : {len(data['금융'])}, 지난 공고의 개수 : {len(old_infos['금융'])}')"
   ]
  },
  {
   "cell_type": "code",
   "execution_count": 16,
   "metadata": {},
   "outputs": [
    {
     "name": "stderr",
     "output_type": "stream",
     "text": [
      "  0%|          | 0/8 [00:12<?, ?it/s]\n"
     ]
    }
   ],
   "source": [
    "# 오늘 날짜 가져오기\n",
    "today = datetime.today().date()        # 현재 날짜 (YYYY-MM-DD) # 실험상 임의로 오늘의 날짜를 1일 뒤로 지정\n",
    "\n",
    "# 마감기한이 끝났거나 혹은 기한이 저장되어 있지 않은 공고의 삭제\n",
    "for key, value in tqdm(list(data.items())):  # 딕셔너리 항목을 리스트로 변환하여 순회 (수정 가능하게)\n",
    "\n",
    "    links, titles = update_fetch_links(reverse_dict[key])  # 기존의 DB와 비교할 오늘의 공고 목록\n",
    "    now_titles = [] # 현재 DB에 있는 항목을 저장할 리스트\n",
    "\n",
    "    expired_items = []  # 삭제할 항목을 저장할 리스트\n",
    "    \n",
    "    for idx in value[:]:  # 원본 리스트를 복사하여 순회\n",
    "\n",
    "        now_titles.append(idx['지원사업 공고명']) # 현재 공고의 타이틀을 저장\n",
    "\n",
    "        if idx['신청기간'][0] == '2':  # 마감 기한이 숫자로 시작하는 경우\n",
    "            deadline = datetime.strptime(idx['신청기간'][-10:], \"%Y.%m.%d\").date()\n",
    "            if deadline < today:  # 마감 기한이 현재 날짜보다 이전이라면\n",
    "                old_infos[key].append(idx)  # 기존 정보 저장\n",
    "                expired_items.append(idx)  # 삭제할 항목 저장\n",
    "    \n",
    "\n",
    "        else:  # 마감 기한이 날짜가 아닌 경우 (예산 소진시까지, 추후 공지, 상시 접수 등)\n",
    "            if idx['지원사업 공고명'] not in titles:\n",
    "                old_infos[key].append(idx)  # 기존 정보 저장\n",
    "                expired_items.append(idx)  # 삭제할 항목 저장\n",
    "\n",
    "        \n",
    "    # 만료된 항목을 기존 리스트에서 제거\n",
    "    for item in expired_items:\n",
    "        value.remove(item)\n",
    "    \n",
    "\n",
    "    # 새로운 항목에 대하여 기존 딕셔너리에 저장\n",
    "    for i in range(len(titles)):\n",
    "        if titles[i] not in now_titles:\n",
    "            print(titles[i])\n",
    "            file_info, file_path = download_file(links[i])\n",
    "            data[file_path].append(file_info)\n",
    "    \n",
    "    break"
   ]
  },
  {
   "cell_type": "code",
   "execution_count": 17,
   "metadata": {},
   "outputs": [
    {
     "name": "stdout",
     "output_type": "stream",
     "text": [
      "전날 금융의 공고 개수 : 175, 지난 공고의 개수 : 1\n"
     ]
    }
   ],
   "source": [
    "# 개수 확인용 출력\n",
    "print(f'전날 금융의 공고 개수 : {len(data['금융'])}, 지난 공고의 개수 : {len(old_infos['금융'])}')"
   ]
  },
  {
   "cell_type": "code",
   "execution_count": 18,
   "metadata": {},
   "outputs": [],
   "source": [
    "with open('data/latest_biz.json', 'w', encoding='utf-8') as f:\n",
    "    json.dump(data, f, indent=4, ensure_ascii=False)\n",
    "\n",
    "with open('data/previous_biz.json', 'w', encoding='utf-8') as f:\n",
    "    json.dump(old_infos, f, indent=4, ensure_ascii=False)"
   ]
  },
  {
   "cell_type": "code",
   "execution_count": 20,
   "metadata": {},
   "outputs": [],
   "source": [
    "text = get_image_text('금융/2025년 녹색자산유동화증권 이차보전 지원사업 (기보1차) 공고.png')"
   ]
  },
  {
   "cell_type": "code",
   "execution_count": null,
   "metadata": {},
   "outputs": [
    {
     "data": {
      "text/plain": [
       "'한국환경산업기술원 공고 제2025-39호 「2025년 녹색자산유동화증권 이차보전 지원사업」 (기보1차) 공고 「2025년 녹색자산유동화증권 이차보전 지원사업」 시행계획을 다음과 같이 공고하오니, 본 지원사업 참여를 희망하는 중소·중견기업은 아래 내용을 참고하여 신청하여 주시기 바랍니다. 2025년 3월 6일 한국환경산업기술원장 사업 목적 C 녹색산업 육성 및 녹색위장행위(그린워싱)를 방지하기 위해 마련한 한국형 녹색분류체계의 활성화 유도 0 녹색금융에 대한 중소·중견기업의 진입장벽을 완화하여 녹색경제 활성화 및 녹색사업 관련 민간자본 참여 유도 2 공고 개요 ○ (사 업 명) 2025년 녹색자산유동화증권 이차보전 지원사업 0 (지원규모) 연간 2,500백만원 ※ 예산 소진 시 조기 마감 가능 0 (지원대상) 한국형 녹색분류체계에 부합하는 자산(회사채)을 기초로 한 유동화증권 발행에 편입된 중소·중견기업 O (지원내용) 녹색자산유동화증권 발행 시 발생하는 이자비용 일부 지원 1차년 중소기업은 기초자산(회사채) 발행금리의 3%p, 중견기업은 2%p 2·3차년은 1차년도 지원액의 50% 내외 ○ (지원기간) 녹색자산유동화증권 발행일로부터 3년 3 지원 세부사항 0 (신청자격) 한국형 녹색분류체계*에 부합하는 사업(프로젝트)을 영위하는 중소·중견기업 6대 환경목표(온실가스 감축, 기후변화 적응, 물의 지속가능한 보전, 순환경제로의 전환, 오염 방지 및 관리, 생물다양성 보전) 달성에 기여하는 녹색경제활동에 대한 원칙과 기준 구분 주요 내용 ○ 한국형 녹색분류체계의 기준을 충족하는 사업(프로젝트)을 영위하는 「중소기업기본법」 제2조에 따른 중소기업 중소기업 o 해당 사업(프로젝트)의 조달자금이 시설 및 운전자금\\'으로 사용될 것 해당 사업 운영에 소요되는 비용(인건비, 원재료 구입비, 공장·창고·설비임차료등) 한국형 녹색분류체계의 기준을 충족하는 사업(프로젝트)을 영위하는 중견기업 중견기업 성장촉진 및 경쟁력 강화에 관한 특별법」 제2조에 따른 중견기업 해당 사업(프로젝트)의 조달자금이 시설자금으로만 사용될 것 ※ 참여기업은 해당연도(~\\'25.12.31) 내 조달자금의 일부라도 사용해야 함 O (지원내용) 구분 내 용 녹색자산유동화증권 발행일로부터 3년 지원기간 녹색자산유동화증권의 기초자산인 기업의 회사채 만기일이 3년 이내거나 발행일로부터 3년 이내에 차상환하는 때는 해당 만기일 또는 차·상환일 전일까지로 함 지원한도 참여기업별 지원한도는 연간 최대 3억 원 이차보전 1차년 중소기업 자산(회사채) 발행액의 연율 3%p 이내 1차년 중견기업 자산(회사채) 발행액의 연율 2%p 이내 지원금리 1033년생 12년생 100% 증가액 내외, 문 해당연도 예산 상황에 따라 2) 발행금리가 지원금리보다 작은 경우,발행금리에해당되는 금액만 지원 0 (참여 제한) 녹색자산유동화증권 발행 지원사업에 참여했거나 참여 중인 기업이 이차보전 지원금을 지급받은 녹색프로젝트와 동일한 프로젝트로 재신청 과거 기업의 부도 발생으로 인해 신보, 기보, 보증재단이 기업의 채무를 대신 변제한 후, 상환받지 못한 기업 및 그 기업의 대표자, 실제경영자 등이 운영하는 기업 매출채권 팩토링 미결제 기업 희생절차, 구조조정절차 진행 중인 기업 기업의 최대주주가 기업 구조조정업을 영위하는 기업 휴.폐업 및 국세, 지방세 등 세금 체납 중인 기업 신용불량(관리)정보 보유기업(대표자, 실제경영자 포함) 기업 부도 사유 발생 기업 연체 중인 기업 또는 연체 사실 과다 보유 기업 기술보증기금에 허위자료를 제출한 사실이 있는 기업 기술보증기금의 보증부 대출금을 용도 외로 사용한 기업 당기 결산서 CPA 감사의견이 \"부적정\" 또는 \\'의견거절\"인 기업 금융업 영위 기업 자기자본 전액 잠식 또는 자기자본 대비 총차입금 비율 과다 기업 최근 2개년 연속 매출액 감소 및 법인 세비용 차감 전 계속사업 이익 적자 증가 기업 당기 매출액 대비 총차입금 또는 운전자금차입금 비율 과다 전기 대비 당기 매출액 과다 감소 최근 1년 이내 대표자 또는 실제경영자 변경 기업 접수 기간 및 신청서 제출 C (신청대상) 한국형 녹색분류체계 부합하는 사업을 영위(예정)하여 유동화 증권 발행을 원하는 중소·중견기업(기술보증기금 6.12. 발행 예정) O (접수기간) 2025. 3. 10.(월) ~ 4.3.(목) 18:00까지 0 (접수방법) 온라인(전자우편) 접수 O (접 수 처) gabs@keiti.re.kr (문의) 한국환경산업기술원 녹색투자지원실 김경완 연구원 (02) 2284-1989 / 전현선 연구원 (02) 2284-1983 / 홍은아 연구원 (02) 2284-1974 0 (제출서류) 기타 자세한 내용은 붙임의 사업안내서 참고 순번 제출서류 양식 1 녹색자산유동화증권 발행 지원사업 참여신청서 붙임1 2 사업계획서 붙임2 3 확약서 붙임3 4 사전체크리스트 붙임4 5 적합성판단 요청서 붙임5 6 개인정보 수집·이용 및 제공 동의서 붙임6 7 사업계획서 및 사전체크리스트 관련 증빙서류 붙임 1. 2025년 녹색자산유동화증권 이차보전 지원사업 사업안내서. 2 한국형 녹색분류체계 가이드라인. 끝.'"
      ]
     },
     "execution_count": 22,
     "metadata": {},
     "output_type": "execute_result"
    }
   ],
   "source": []
  },
  {
   "cell_type": "code",
   "execution_count": null,
   "metadata": {},
   "outputs": [],
   "source": []
  }
 ],
 "metadata": {
  "kernelspec": {
   "display_name": "new",
   "language": "python",
   "name": "python3"
  },
  "language_info": {
   "codemirror_mode": {
    "name": "ipython",
    "version": 3
   },
   "file_extension": ".py",
   "mimetype": "text/x-python",
   "name": "python",
   "nbconvert_exporter": "python",
   "pygments_lexer": "ipython3",
   "version": "3.12.8"
  }
 },
 "nbformat": 4,
 "nbformat_minor": 2
}
