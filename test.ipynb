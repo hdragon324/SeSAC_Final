{
 "cells": [
  {
   "cell_type": "markdown",
   "metadata": {},
   "source": [
    "#### 다음 참고 사이트를 보고 pytesseract를 설치 하세요\n",
    "- https://coding-yesung.tistory.com/239"
   ]
  },
  {
   "cell_type": "code",
   "execution_count": null,
   "metadata": {},
   "outputs": [],
   "source": [
    "## cv2 라이브러리 다운\n",
    "# !pip install opencv-python\n",
    "# !pip install pytesseract"
   ]
  },
  {
   "cell_type": "code",
   "execution_count": 11,
   "metadata": {},
   "outputs": [],
   "source": [
    "import pytesseract\n",
    "import cv2"
   ]
  },
  {
   "cell_type": "code",
   "execution_count": 17,
   "metadata": {},
   "outputs": [],
   "source": [
    "def get_image_text(filename):\n",
    "    # Tesseract-OCR 경로 설정\n",
    "    pytesseract.pytesseract.tesseract_cmd = \"C:\\\\Users\\\\every\\\\Desktop\\\\Project\\\\team_project\\\\SeSAC_Final\\\\AI-for-Creating-Business-Plan-Drafts\\\\OCR\\\\tesseract.exe\"\n",
    "\n",
    "\n",
    "    # 이미지 로드\n",
    "    img = cv2.imread(filename)\n",
    "    dst = cv2.cvtColor(img, cv2.COLOR_BGR2RGB)  # tesseract에서는 RGB로 넣어야 하기 때문에 변환\n",
    "\n",
    "    # 이미지에서 텍스트 추출\n",
    "    text = pytesseract.image_to_string(dst, lang='kor+eng')\n",
    "    \n",
    "    return text"
   ]
  },
  {
   "cell_type": "code",
   "execution_count": null,
   "metadata": {},
   "outputs": [
    {
     "name": "stdout",
     "output_type": "stream",
     "text": [
      "스스 수 수 수 수 스스\n",
      "\n",
      "Gaol\n",
      "\n",
      "북구 CI'S 3% SHS 지원 - 무담보, 무이자, 무보증료\n",
      "료\n",
      "\n",
      "91142! 대출이자(5.5% 01 및 보증료 전액 지원(시후 입금)\n",
      "GED 북구 관내 임차 소상공인\n",
      "※ 지원제외 : 자가 또는 무상임차인 경우, 20244 특례보증 대출 이용자, 보증제외업종\n",
      "339) - 대출한도 :업체당 최대 2천만원 (관광사업자, 20204 이후 재창업자 3천만원 우대!\n",
      "- 대출 및 상환 : 일시상환(1년) / 원금균등분할상환(5년|\n",
      "급 시점 산출금리 5.5% 이내)\n",
      "EEED 광주은행, 광주문화신협, 북구 새마을금고(11개|, 광주농협 전 지점\n",
      "*북구 새마을금고(11개)\n",
      "*\n",
      "\n",
      ":광주북부, 광주중앙 동부, SS, 서방, SBF, we, 예향 정다운, SS, chet\n",
      "\n",
      "자특례보증, 포용금융특별대출 KIBMSISSM\n",
      "\n",
      "SK 광주광역시북구\n",
      "\n"
     ]
    }
   ],
   "source": [
    "file_path = r'금융\\[광주] 북구 2025년 소상공인 대출 지원사업(특례보증ㆍ포용금융) 공고.png'\n",
    "get_image_text(file_path)"
   ]
  },
  {
   "cell_type": "code",
   "execution_count": null,
   "metadata": {},
   "outputs": [],
   "source": []
  }
 ],
 "metadata": {
  "kernelspec": {
   "display_name": "new",
   "language": "python",
   "name": "python3"
  },
  "language_info": {
   "codemirror_mode": {
    "name": "ipython",
    "version": 3
   },
   "file_extension": ".py",
   "mimetype": "text/x-python",
   "name": "python",
   "nbconvert_exporter": "python",
   "pygments_lexer": "ipython3",
   "version": "3.12.8"
  }
 },
 "nbformat": 4,
 "nbformat_minor": 2
}
