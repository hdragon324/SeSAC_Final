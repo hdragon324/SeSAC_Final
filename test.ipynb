{
 "cells": [
  {
   "cell_type": "markdown",
   "metadata": {},
   "source": [
    "### URL 1개에 해당해서 파일 크롤링을 하는 방법"
   ]
  },
  {
   "cell_type": "code",
   "execution_count": 16,
   "metadata": {},
   "outputs": [],
   "source": [
    "import requests\n",
    "from bs4 import BeautifulSoup\n",
    "from tqdm import tqdm"
   ]
  },
  {
   "cell_type": "code",
   "execution_count": 26,
   "metadata": {},
   "outputs": [],
   "source": [
    "# 사이트 접속 차단을 받지 않기 위한 header 지정\n",
    "header = {\n",
    "    'User-Agent':'Mozilla/5.0 (Windows NT 10.0; Win64; x64) AppleWebKit/537.36 (KHTML, like Gecko) Chrome/131.0.0.0 Safari/537.36'\n",
    "}\n",
    "\n",
    "# 기업마당의 해시코드를 저장해놓은 dictionary\n",
    "hashcode_dict = {'01':'금융',\n",
    "                '02':'기술',\n",
    "                '03':'인력',\n",
    "                '07':'수출',\n",
    "                '08':'내수',\n",
    "                '09':'창업',\n",
    "                '10':'경영',\n",
    "                '12':'기타'}"
   ]
  },
  {
   "cell_type": "code",
   "execution_count": 28,
   "metadata": {},
   "outputs": [],
   "source": [
    "def download_file(URL, header=header):\n",
    "    '''지원사업 공고에 있는 파일을 다운로드하는 함수'''\n",
    "    # bs4로 해당 URL의 html 구조 파싱\n",
    "    response = requests.get(URL, headers=header)\n",
    "    soup = BeautifulSoup(response.text, 'html.parser')\n",
    "\n",
    "    # 다운로드 파일 링크를 담을 리스트 / 파일명을 담을 빈 문자열 선언\n",
    "    down_link, down_title = [], ''\n",
    "\n",
    "    # '본문출력파일'의 파일만 다운로드 하도록 수행하는 반복문 + 조건문\n",
    "    for idx in range(len(soup.select('div.attached_file_list h3'))):\n",
    "        if soup.select('div.attached_file_list h3')[idx].text == '본문출력파일':\n",
    "            down_link = soup.select('div.attached_file_list div.right_btn')[idx].select('a')\n",
    "            file_path = soup.select_one('div.category span').text\n",
    "\n",
    "            # 다운 받을 공고문 파일의 이름을 공고문의 title로 바꿔서 정리\n",
    "            down_title = soup.select_one('h2.title').text + '.' + soup.select('div.attached_file_list div.file_name')[idx].text.split('.')[-1]\n",
    "        else:\n",
    "            continue\n",
    "\n",
    "    # 다운로드 파일링크는 내부 url이기 때문에 앞에 도메인 주소를 붙여줘야 함.\n",
    "    base_url = 'https://www.bizinfo.go.kr'\n",
    "    down_url = base_url + down_link[1].attrs['href']\n",
    "    \n",
    "\n",
    "    # 다운로드된 파일을 저장할 파일 경로\n",
    "    save_path = f'C:/Users/every/Desktop/Project/team_project/SeSAC_Final/AI-for-Creating-Business-Plan-Drafts/{file_path}/{down_title}'\n",
    "\n",
    "    # HTTP 요청을 보내 파일 다운로드\n",
    "    response = requests.get(down_url, stream=True)\n",
    "\n",
    "    # 응답이 성공했는지 확인\n",
    "    if response.status_code == 200:\n",
    "        with open(save_path, \"wb\") as file:\n",
    "            for chunk in response.iter_content(1024):  # 1024바이트씩 저장\n",
    "                file.write(chunk)\n",
    "    else:\n",
    "        print(f\"파일 다운로드 실패. 상태 코드: {response.status_code}\")\n",
    "\n",
    "\n",
    "def fetch_links(hashcode, header=header):\n",
    "    '''기업마당의 메인에 있는 공고 각각의 URL을 리스트로 반환'''\n",
    "\n",
    "    # 기업마당의 공고 URL은 BASE_URL + td class='txt_l a'의 형식으로 되어 있음\n",
    "    BASE_URL = 'https://www.bizinfo.go.kr/web/lay1/bbs/S1T122C128/AS/74/'\n",
    "    idx = 1         # 페이지를 넘기기 위한 인덱스\n",
    "    links = []      # 링크를 정리해둘 리스트 선언\n",
    "\n",
    "    # 공고가 없는 페이지가 나올 때까지 반복문\n",
    "    while True:\n",
    "        URL = f'https://www.bizinfo.go.kr/web/lay1/bbs/S1T122C128/AS/74/list.do?hashCode={hashcode}&cpage={idx}'\n",
    "        response = requests.get(URL, headers=header)\n",
    "        soup = BeautifulSoup(response.text, 'html.parser')\n",
    "\n",
    "        # 공고가 없는 페이지가 나올 시 반복문 탈출\n",
    "        if len(soup.select('div.sub_cont tr')) == 2:\n",
    "            break\n",
    "        \n",
    "        # links에 URL 저장\n",
    "        # 해당 페이지에 있는 전체 URL에 대하여 실행\n",
    "        links += [BASE_URL + link.attrs['href'] for link in soup.select('td.txt_l a')]\n",
    "\n",
    "        # 페이지 넘김\n",
    "        idx += 1\n",
    "\n",
    "    return links"
   ]
  },
  {
   "cell_type": "code",
   "execution_count": 29,
   "metadata": {},
   "outputs": [
    {
     "name": "stderr",
     "output_type": "stream",
     "text": [
      "100%|██████████| 146/146 [02:33<00:00,  1.05s/it]\n"
     ]
    }
   ],
   "source": [
    "for link in tqdm(fetch_links('01')):\n",
    "    download_file(link)"
   ]
  },
  {
   "cell_type": "code",
   "execution_count": null,
   "metadata": {},
   "outputs": [],
   "source": []
  },
  {
   "cell_type": "code",
   "execution_count": null,
   "metadata": {},
   "outputs": [],
   "source": []
  },
  {
   "cell_type": "code",
   "execution_count": null,
   "metadata": {},
   "outputs": [],
   "source": []
  }
 ],
 "metadata": {
  "kernelspec": {
   "display_name": "new",
   "language": "python",
   "name": "python3"
  },
  "language_info": {
   "codemirror_mode": {
    "name": "ipython",
    "version": 3
   },
   "file_extension": ".py",
   "mimetype": "text/x-python",
   "name": "python",
   "nbconvert_exporter": "python",
   "pygments_lexer": "ipython3",
   "version": "3.12.8"
  }
 },
 "nbformat": 4,
 "nbformat_minor": 2
}
