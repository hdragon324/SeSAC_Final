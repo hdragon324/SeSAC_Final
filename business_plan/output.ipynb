{
 "cells": [
  {
   "cell_type": "code",
   "execution_count": 1,
   "id": "3ee39ccc",
   "metadata": {
    "execution": {
     "iopub.execute_input": "2025-04-01T09:23:18.607191Z",
     "iopub.status.busy": "2025-04-01T09:23:18.607191Z",
     "iopub.status.idle": "2025-04-01T09:23:18.630294Z",
     "shell.execute_reply": "2025-04-01T09:23:18.630294Z"
    },
    "papermill": {
     "duration": 0.023103,
     "end_time": "2025-04-01T09:23:18.630294",
     "exception": false,
     "start_time": "2025-04-01T09:23:18.607191",
     "status": "completed"
    },
    "tags": [
     "injected-parameters"
    ]
   },
   "outputs": [],
   "source": [
    "# Parameters\n",
    "item_info = {\"\\uc544\\uc774\\ud15c \\uba85\": \"\\ub5b4\\ub2e4\", \"\\uc544\\uc774\\ud15c \\uc18c\\uac1c\": \"\\uc18c\\uc0c1\\uacf5\\uc778\\uc744 \\uc704\\ud55c \\ub9de\\ucda4\\ud615 \\uc815\\ubd80 \\uc9c0\\uc6d0 \\uc0ac\\uc5c5 \\ucd94\\ucc9c \\ubc0f \\uc0ac\\uc5c5\\uacc4\\ud68d\\uc11c \\ucd08\\uc548 \\uc791\\uc131 AI \\uc11c\\ube44\\uc2a4\", \"\\uc81c\\ud488 \\ubc0f \\uc11c\\ube44\\uc2a4 \\uac1c\\ubc1c\\ub3d9\\uae30\": \"\\uc18c\\uc0c1\\uacf5\\uc778\\uc758 \\uc815\\ubcf4 \\uc811\\uadfc\\uc131 \\ubc0f \\ud65c\\uc6a9\\uc758 \\uc5b4\\ub824\\uc6c0\\uc73c\\ub85c \\uc815\\ubd80\\uc9c0\\uc6d0\\uc0ac\\uc5c5\\uc758 \\ud61c\\ud0dd\\uc744 \\uc798 \\ubc1b\\uc9c0 \\ubabb\\ud558\\uace0 \\uc788\\uace0 \\ub610\\ud55c \\ucc3d\\uc5c5\\ud328\\ud0a4\\uc9c0 \\uacbd\\uc7c1\\ub960\\uc774 \\ub192\\uc544\\uc9c0\\uba70 \\uc0dd\\uc131\\ud615 AI\\ub97c \\ud65c\\uc6a9\\ud55c \\uc0ac\\uc5c5\\uacc4\\ud68d\\uc11c \\uc791\\uc131 \\uad50\\uc721\\uc758 \\uc218\\uc694\\uac00 \\uc99d\\uac00\\ud558\\uace0 \\uc788\\ub294 \\ucd94\\uc138\", \"\\uc81c\\ud488 \\ubc0f \\uc11c\\ube44\\uc2a4\\uc758 \\ubaa9\\uc801_\\ud544\\uc694\\uc131\": \"\\ubcf5\\uc7a1\\ud558\\uace0 \\ub2e4\\uc591\\ud55c \\uc815\\ubd80 \\uc9c0\\uc6d0 \\uc0ac\\uc5c5 \\uc815\\ubcf4\\ub97c \\uc18c\\uc0c1\\uacf5\\uc778\\uc5d0\\uac8c \\ub9de\\ucda4\\ud615\\uc73c\\ub85c \\uc81c\\uacf5\\ud558\\uc5ec \\uc815\\ubcf4 \\uc811\\uadfc\\uc131\\uc744 \\ub192\\uc774\\uace0 \\uc18c\\uc0c1\\uacf5\\uc778\\uc758 \\uc2dc\\uac04\\uacfc \\ube44\\uc6a9\\uc744 \\uc808\\uac10\\ud560 \\uc218 \\uc788\\uc5b4 \\ucc3d\\uc5c5\\uc758 \\uc7a5\\ubcbd\\uc744 \\ub0ae\\ucd9c \\uc218 \\uc788\\uc74c\", \"\\uc81c\\ud488 \\ubc0f \\uc11c\\ube44\\uc2a4\\uc758 \\uac1c\\ubc1c \\ubc29\\uc548\": \"\\uc18c\\uc0c1\\uacf5\\uc778\\uc758 \\uc0ac\\uc5c5 \\uc720\\ud615, \\uaddc\\ubaa8, \\uc9c0\\uc5ed \\ub4f1\\uc744 \\ubd84\\uc11d\\ud558\\uc5ec \\ucd5c\\uc801\\uc758 \\uc815\\ubd80 \\uc9c0\\uc6d0 \\uc0ac\\uc5c5 \\uc815\\ubcf4\\ub97c \\uc81c\\uacf5\\ud558\\uace0 \\uc18c\\uc0c1\\uacf5\\uc778\\uc758 \\uc0ac\\uc5c5 \\uc544\\uc774\\ud15c, \\ubaa9\\ud45c, \\uc804\\ub7b5 \\ub4f1\\uc744 \\uc785\\ub825\\ud558\\uba74 AI\\uac00 \\uc0ac\\uc5c5\\uacc4\\ud68d\\uc11c \\ucd08\\uc548\\uc744 \\uc790\\ub3d9\\uc73c\\ub85c \\uc791\\uc131\\ud569\\ub2c8\\ub2e4\", \"\\uc790\\uae08 \\uc870\\ub2ec \\ubc0f \\uac1c\\ubc1c \\ubc29\\uc548\": \"\\ucc3d\\uc5c5 \\uc9c0\\uc6d0 \\uc0ac\\uc5c5, \\uae30\\uc220 \\uac1c\\ubc1c \\uc9c0\\uc6d0 \\uc0ac\\uc5c5 \\ub4f1 \\uc815\\ubd80 \\uc9c0\\uc6d0 \\uc0ac\\uc5c5\\uc744 \\uc801\\uadf9\\uc801\\uc73c\\ub85c \\ud65c\\uc6a9\\ud558\\uc5ec \\uac1c\\ubc1c \\uc790\\uae08\\uc744 \\ud655\\ubcf4\\ud569\\ub2c8\\ub2e4.\", \"\\ub0b4\\uc218\\uc2dc\\uc7a5 \\ud655\\ubcf4 \\ubc29\\uc548 \\uacbd\\uc7c1 \\ubc0f \\ud310\\ub9e4\\uac00\\ub2a5\\uc131\": \"AI \\uae30\\ubc18 \\ub9de\\ucda4\\ud615 \\uc815\\ubcf4 \\uc81c\\uacf5 \\ubc0f \\uc0ac\\uc5c5\\uacc4\\ud68d\\uc11c \\ucd08\\uc548 \\uc791\\uc131 \\uae30\\ub2a5\\uc744 \\ud1b5\\ud574 \\uacbd\\uc7c1 \\uc6b0\\uc704\\ub97c \\ud655\\ubcf4\\ud569\\ub2c8\\ub2e4.\", \"\\ud574\\uc678\\uc2dc\\uc7a5 \\uc9c4\\ucd9c \\ubc29\\uc548 \\uacbd\\uc7c1 \\ubc0f \\ud310\\ub9e4\\uac00\\ub2a5\\uc131\": \"\", \"\\ub300\\ud45c\\uc790 \\ubc0f \\uc9c1\\uc6d0\\uc758 \\ubcf4\\uc720\\uc5ed\\ub7c9 \\ubc0f \\uae30\\uc220\\ubcf4\\ud638 \\ub178\\ub825\": \"AI \\uac1c\\ubc1c, \\uc6f9 \\uac1c\\ubc1c, \\ub9c8\\ucf00\\ud305, \\ucee8\\uc124\\ud305 \\ub4f1 \\uac01 \\ubd84\\uc57c\\uc758 \\uc804\\ubb38\\uc131\\uc744 \\uac16\\ucd98 \\uc9c1\\uc6d0\\ub4e4\\uc774 \\uc11c\\ube44\\uc2a4\\ub97c \\uac1c\\ubc1c\\ud558\\uace0 \\uc6b4\\uc601\\ud569\\ub2c8\\ub2e4.\", \"\\uc0ac\\ud68c\\uc801 \\uac00\\uce58 \\uc2e4\\ucc9c\\uacc4\\ud68d\": \"\\uc18c\\uc0c1\\uacf5\\uc778\\uc758 \\uc131\\uacf5\\uc801\\uc778 \\ucc3d\\uc5c5 \\ubc0f \\uc131\\uc7a5\\uc744 \\uc9c0\\uc6d0\\ud558\\uc5ec \\uc9c0\\uc5ed \\uacbd\\uc81c \\ud65c\\uc131\\ud654\\uc5d0 \\uae30\\uc5ec\\ud569\\ub2c8\\ub2e4.\", \"\\uc9c0\\uc5ed\\ud2b9\\ud654 \\uc544\\uc774\\ub514\\uc5b4 \\uae30\\ubc18 \\uc0ac\\uc5c5\\ucd94\\uc9c4\\uacc4\\ud68d\": \"\\uc9c0\\uc5ed \\ud2b9\\ud654 \\uc0b0\\uc5c5 \\ubc0f \\uc815\\ubd80 \\uc9c0\\uc6d0 \\uc0ac\\uc5c5\\uc5d0 \\ub300\\ud55c \\uc804\\ubb38 \\ucee8\\uc124\\ud305\\uc744 \\uc81c\\uacf5\\ud569\\ub2c8\\ub2e4\", \"\\ud0c0\\uac9f \\uace0\\uac1d\": \"\\uc18c\\uc0c1\\uacf5\\uc778, \\uc608\\ube44\\ucc3d\\uc5c5\\uc790, \\uc18c\\uae30\\uc5c5\", \"\\uc2dc\\uc7a5 \\uaddc\\ubaa8\": \"\\uad6d\\ub0b4 \\uc18c\\uc0c1\\uacf5\\uc778 \\uc218\\ub294 \\uc57d 600\\ub9cc \\uba85\\uc73c\\ub85c, \\uc7a0\\uc7ac \\uc2dc\\uc7a5 \\uaddc\\ubaa8\\uac00 \\ub9e4\\uc6b0 \\ud07d\\ub2c8\\ub2e4.\", \"\\uacbd\\uc7c1\\uc0ac \\ubd84\\uc11d\": \"\\uae30\\uc874 \\uc0ac\\uc5c5\\uacc4\\ud68d\\uc11c \\ucee8\\uc124\\ud305 \\uc5c5\\uccb4, \\uc815\\ubd80 \\uc9c0\\uc6d0 \\uc0ac\\uc5c5 \\uc815\\ubcf4 \\uc81c\\uacf5 \\ud50c\\ub7ab\\ud3fc \\ub4f1\\uc774 \\uacbd\\uc7c1\\uc0ac\\uc785\\ub2c8\\ub2e4. AI \\uae30\\ubc18 \\uc0ac\\uc5c5\\uacc4\\ud68d\\uc11c \\uc791\\uc131 \\uc11c\\ube44\\uc2a4\\ub97c \\uc81c\\uacf5\\ud558\\ub294 \\ub3c5\\uc2a4\\ud5cc\\ud2b8\\uc640 \\ud384\\uc2a4\\uc6e8\\uc774\\ube0c\\uac00 \\ub300\\ud45c\\uc801\\uc785\\ub2c8\\ub2e4.\"}\n"
   ]
  },
  {
   "cell_type": "markdown",
   "id": "d2229c1b",
   "metadata": {
    "papermill": {
     "duration": 0.009555,
     "end_time": "2025-04-01T09:23:18.639849",
     "exception": false,
     "start_time": "2025-04-01T09:23:18.630294",
     "status": "completed"
    },
    "tags": []
   },
   "source": [
    "### 청년창업사관학교"
   ]
  },
  {
   "cell_type": "code",
   "execution_count": 2,
   "id": "e34af06c",
   "metadata": {
    "execution": {
     "iopub.execute_input": "2025-04-01T09:23:18.639849Z",
     "iopub.status.busy": "2025-04-01T09:23:18.639849Z",
     "iopub.status.idle": "2025-04-01T09:23:29.292867Z",
     "shell.execute_reply": "2025-04-01T09:23:29.292867Z"
    },
    "papermill": {
     "duration": 10.655138,
     "end_time": "2025-04-01T09:23:29.294987",
     "exception": false,
     "start_time": "2025-04-01T09:23:18.639849",
     "status": "completed"
    },
    "tags": []
   },
   "outputs": [],
   "source": [
    "import json\n",
    "import re\n",
    "\n",
    "from docx import Document\n",
    "from docx.shared import Pt\n",
    "from openai import OpenAI\n",
    "\n",
    "from docx2pdf import convert"
   ]
  },
  {
   "cell_type": "code",
   "execution_count": null,
   "id": "afd56d73",
   "metadata": {
    "execution": {
     "iopub.execute_input": "2025-04-01T09:23:29.294987Z",
     "iopub.status.busy": "2025-04-01T09:23:29.294987Z",
     "iopub.status.idle": "2025-04-01T09:23:31.778185Z",
     "shell.execute_reply": "2025-04-01T09:23:31.778185Z"
    },
    "papermill": {
     "duration": 2.483198,
     "end_time": "2025-04-01T09:23:31.778185",
     "exception": false,
     "start_time": "2025-04-01T09:23:29.294987",
     "status": "completed"
    },
    "tags": []
   },
   "outputs": [],
   "source": [
    "client = OpenAI(api_key='YOUR_API_KEY')"
   ]
  },
  {
   "cell_type": "code",
   "execution_count": 4,
   "id": "e602fb59",
   "metadata": {
    "execution": {
     "iopub.execute_input": "2025-04-01T09:23:31.778185Z",
     "iopub.status.busy": "2025-04-01T09:23:31.778185Z",
     "iopub.status.idle": "2025-04-01T09:23:31.791996Z",
     "shell.execute_reply": "2025-04-01T09:23:31.791996Z"
    },
    "papermill": {
     "duration": 0.015815,
     "end_time": "2025-04-01T09:23:31.794000",
     "exception": false,
     "start_time": "2025-04-01T09:23:31.778185",
     "status": "completed"
    },
    "tags": []
   },
   "outputs": [],
   "source": [
    "# 공용 프롬프트\n",
    "\n",
    "kosme_template = {f'''\n",
    "\n",
    "1. 문제 인식  \n",
    "1) 제품 및 서비스 개발동기\n",
    "(자사가 개발(보유)하고 있는 제품 및 서비스에 대한 개발동기 등을 기재)\n",
    "\n",
    "2) 제품 및 서비스의 목적(필요성)\n",
    "(제품(서비스)을 구현하고자 하는 목적, 고객의 니즈를 혁신적으로 해결하기 위한 방안 등을 기재)\n",
    "\n",
    "2. 실현 가능성\n",
    "1) 제품 및 서비스의 개발 방안\n",
    "(제품(서비스) 구현정도ㅡ 제작 소요기간 및 제작방법(자체 외주), 추진일정 등을 기재)\n",
    "\n",
    "3. 성장전략(Scale-up)\n",
    "1) 자금소요 및 조달계획\n",
    "(자금의 필요성, 금액의 적정성 여부를 판단할 수 있도록 사업비(정부지원금+대응자금)의 사용계획 등을 기재(신청사업의 통합관리지침 및 세부관리기준에 근거하여 작성))\n",
    "\n",
    "2) 시장진입 및 성과창출 전략\n",
    "2-1) 내수시장 확보 방안(경쟁 및 판매가능성) \n",
    "(내수시장을 중심으로 주 소비자층, 주 타겟시장, 진출시기, 시장진출 및 판매 전략, 그간 실적 등을 구체적으로 기재) \n",
    "\n",
    "2-2) 해외시장 진출 방안(경쟁 및 판매가능성)\n",
    "(해외시장을 중심으로 주 소비자층, 주 타겟시장, 진출시기, 시장진출 및 판매 전략, 그간 실적 등을 구체적으로 기재)\n",
    "\n",
    "4. 팀 구성\n",
    "1) 대표자 및 직원의 보유역량 및 기술보호 노력\n",
    "\n",
    "2) 사회적 가치 실천계획\n",
    "(양질의 일자리 창출을 위한 중소기업 성과공유제, 비공유직의 정규직화, 근로시간 단축 등 사회적 가치 실천계획을 기재)\n",
    "\n",
    "3) 지역특화 아이디어 기반 사업추진계획\n",
    "(지역에 특화된 산업 및 문화 등을 신기술 또는 최신 트렌드와 결합한 측면에서 기술)\n",
    "\n",
    "'''\n",
    "}"
   ]
  },
  {
   "cell_type": "code",
   "execution_count": 5,
   "id": "fa69fa9a",
   "metadata": {
    "execution": {
     "iopub.execute_input": "2025-04-01T09:23:31.806166Z",
     "iopub.status.busy": "2025-04-01T09:23:31.806166Z",
     "iopub.status.idle": "2025-04-01T09:23:31.811064Z",
     "shell.execute_reply": "2025-04-01T09:23:31.811064Z"
    },
    "papermill": {
     "duration": 0.012417,
     "end_time": "2025-04-01T09:23:31.811064",
     "exception": false,
     "start_time": "2025-04-01T09:23:31.798647",
     "status": "completed"
    },
    "tags": []
   },
   "outputs": [],
   "source": [
    "# 공용 프롬프트\n",
    "\n",
    "kosme_pass = {f'''\n",
    "1. 사업아이템과 관련된 사회적으로 발생하는 문제점을 제시합니다\n",
    "2. 사회적 문제에 대한 근거를 제시해 주세요\n",
    "3. 시장 동향(트렌드)과 성장 가능성을 제시합니다.\n",
    "4. 사업 시작하게 된 동기와 문제인식, 문제 정의를 제시해 주세요,\n",
    "5. 시장에서 발견한 고객(이용자)의 니즈를 파악해서 제시해 주세요.\n",
    "6. 시장에서 발견한 고객(이용자)의 pain-point를 파악해서 제시해 주세요.\n",
    "7. 제품(서비스)을 구현하고자 하는 목적, 고객의 니즈를 혁신적으로 해결하기 위한 방안을 제시해 주세요.    \n",
    "8. 가능하다면 시장 확장 가능성에 대해서도 제시해 주세요.\n",
    "              '''}"
   ]
  },
  {
   "cell_type": "code",
   "execution_count": 6,
   "id": "bb1deffc",
   "metadata": {
    "execution": {
     "iopub.execute_input": "2025-04-01T09:23:31.824448Z",
     "iopub.status.busy": "2025-04-01T09:23:31.824448Z",
     "iopub.status.idle": "2025-04-01T09:23:42.867973Z",
     "shell.execute_reply": "2025-04-01T09:23:42.867973Z"
    },
    "papermill": {
     "duration": 11.051821,
     "end_time": "2025-04-01T09:23:42.867973",
     "exception": false,
     "start_time": "2025-04-01T09:23:31.816152",
     "status": "completed"
    },
    "tags": []
   },
   "outputs": [
    {
     "name": "stdout",
     "output_type": "stream",
     "text": [
      "사업계획서 초안 :\n",
      " 1. 문제 인식  \n",
      "1) 제품 및 서비스 개발동기  \n",
      "   본 제품은 소상공인들이 정부지원사업의 혜택을 제대로 받지 못하는 문제를 해결하기 위해 개발되었습니다. 소상공인들은 다양한 정부 지원 사업이 존재함에도 불구하고 정보 접근성의 어려움과 복잡한 절차 때문에 이를 충분히 활용하지 못하고 있습니다. 특히, 창업패키지의 경쟁률이 높아지면서 효과적인 사업계획서 작성 능력이 필수적입니다. 이러한 상황에서 생성형 AI 기술을 활용하여 사업계획서를 더 효율적으로 작성할 수 있는 교육에 대한 수요가 증가하고 있습니다. 따라서, '떴다'는 소상공인의 정보 접근성을 개선하고 시간과 비용을 절감할 수 있는 맞춤형 AI 서비스를 제공하여 이러한 문제를 해결하려고 합니다.\n",
      "\n",
      "2) 제품 및 서비스의 목적 및 필요성  \n",
      "   현재 시장에서는 소상공인들이 정부지원사업 정보를 효율적으로 얻고 활용하는 데 한계를 느끼고 있습니다. 이는 복잡한 정보 구조와 제한된 접근성 때문으로, 많은 소상공인이 필요한 지원을 놓치게 됩니다. 또한, 기존에 존재하는 사업계획서 컨설팅 서비스는 고비용으로 인해 부담스럽고 시간도 많이 소모됩니다. '떴다' 서비스는 AI 기반 기술을 통해 소상공인의 사업 유형, 규모, 지역 등을 분석하여 최적화된 지원 정보를 제공합니다. 이러한 맞춤형 서비스는 개인별로 특화된 도움을 주어 창업의 장벽을 낮추며, 궁극적으로 시장 진입 가능성을 높여줍니다. 결론적으로, 이 시스템은 정보 비대칭 문제를 해결하며 경제적 기회를 확대해 줄 것입니다.\n",
      "\n",
      "특히, 국내 약 600만 명의 소상공인을 대상으로 하는 잠재 시장을 고려했을 때 이 서비스는 큰 사회적 가치를 지닙니다(출처: 중소기업청). 다양한 산업군에서 해당 솔루션이 제공할 수 있는 혜택은 무궁무진하며 고객들의 니즈를 혁신적으로 해결할 수 있을 것입니다. 이를 통해 소비자층 확장과 동시에 지속 가능한 성장 전략을 구축하게 됩니다.\n",
      "\n",
      "\n"
     ]
    }
   ],
   "source": [
    "# 1. 문제인식 항목 \n",
    "\n",
    "prompt_1 = f\"\"\"\n",
    "당신은 기존 창업가의 아이디어를 구체화하고 사업 가능성을 검증하는 사업계획서 작성 전문가입니다. \n",
    "{item_info}정보를 바탕으로 {kosme_template}템플릿 양식을 철저히 지켜 작성하며,\n",
    "{kosme_pass}를 필수적으로 참고하세요.\n",
    "아래 항목에 대해 각각 15줄 이상 상세히 답변해주세요. 반드시 답변마다 별도의 문단을 생성하고, 간결함보다 완전성을 우선시합니다.\n",
    "이 사업계획서는 내 생계가 달린 아주 중요한 작업입니다.\n",
    "다음 정보를 바탕으로 아이디어 검증 및 사업 구체화를 위한 사업계획서에서 제품 및 서비스 개발동기와 서비스의 목적&필요성 부분만 작성해 주세요.\n",
    "시장의 필요성과 법제화가 중요합니다.\n",
    "관련된 정보를 더 찾아서 사업아이템을 구체화해줘도 좋습니다.\n",
    "'특히' 또는 '결론적으로' 같은 단어가 있다면 줄바꿈을 해주세요.\n",
    "\n",
    "문제 인식 1: {item_info['제품 및 서비스 개발동기']}\n",
    "문제 인식 2: {item_info['제품 및 서비스의 목적_필요성']} \n",
    "\n",
    "**반드시 지켜야 할 출력 규칙**\n",
    "1. 절대 #, *, - 기호 및 마크다운 스타일 절대 금지\n",
    "2. 항목 표시 시 \"1)\", \"2)\" 형식만 사용 (숫자+닫는 괄호)\n",
    "3. 데이터 출처 명시 : 모든 통계 수치에 출처를 포함\n",
    "4. 문장이 끝나면 띄어쓰기를 할것\n",
    "\n",
    "예시 출력:  \n",
    "1. 문제인식\n",
    "   1) 제품 및 서비스 개발동기  \n",
    "      본 제품은 시장의 OOO한 문제를 해결하기 위해 개발되었습니다...  \n",
    "\n",
    "   2) 제품 및 서비스의 목적 및 필요성  \n",
    "      현재 시장에서 유사 제품은 OOO한 한계를 가지고 있으며...  \n",
    "\"\"\"\n",
    "\n",
    "# OpenAI API를 사용하여 사업계획서 초안 생성\n",
    "completion = client.chat.completions.create(model='gpt-4o',\n",
    "                                                messages=[{'role':'system','content': prompt_1}],\n",
    "                                                            temperature=0.7,\n",
    "                                                            presence_penalty=0.8,\n",
    "                                                            frequency_penalty=0.5,\n",
    "                                                            max_tokens = 4000)\n",
    "                                                            \n",
    "# presence_penalty: 이 값을 0.5~1.0 정도로 설정하면 모델이 새로운 주제나 단어를 도입하는 경향이 증가하여 출력의 다양성이 높아집니다.\n",
    "# frequency_penalty: 이 값을 0.5~1.0 정도로 설정하면 특정 단어의 반복 사용을 억제하여 출력의 품질을 향상시킬 수 있습니다.\n",
    "\n",
    "# 생성된 사업계획서 초안 출력\n",
    "사업계획서_초안1 = completion.choices[0].message.content\n",
    "사업계획서_초안1 = 사업계획서_초안1.replace(\"### \", \"\")  # 자동으로 붙은 '### '을 제거  \n",
    "print(\"사업계획서 초안 :\\n\", 사업계획서_초안1)"
   ]
  },
  {
   "cell_type": "code",
   "execution_count": 7,
   "id": "a1715b5d",
   "metadata": {
    "execution": {
     "iopub.execute_input": "2025-04-01T09:23:42.877395Z",
     "iopub.status.busy": "2025-04-01T09:23:42.877395Z",
     "iopub.status.idle": "2025-04-01T09:23:59.528527Z",
     "shell.execute_reply": "2025-04-01T09:23:59.528527Z"
    },
    "papermill": {
     "duration": 16.651132,
     "end_time": "2025-04-01T09:23:59.528527",
     "exception": false,
     "start_time": "2025-04-01T09:23:42.877395",
     "status": "completed"
    },
    "tags": []
   },
   "outputs": [
    {
     "name": "stdout",
     "output_type": "stream",
     "text": [
      "사업계획서 초안 :\n",
      " 2. 실현 가능성  \n",
      "1) 제품 및 서비스의 개발 방안 :  \n",
      "본 제품은 소상공인들이 다양한 정부 지원 사업 정보를 쉽게 접근할 수 있도록 함으로써, 창업 및 경영에 필요한 자원을 효율적으로 확보할 수 있게 하기 위해 개발되었습니다. 이 서비스는 소상공인의 사업 유형, 규모, 지역 등의 데이터를 분석하여 최적의 정부 지원 사업 정보를 추천하는 것을 목적으로 합니다. 또한, 소상공인이 본인의 사업 아이템과 목표를 설정하고 전략을 입력하면 AI가 이를 기반으로 맞춤형 사업계획서 초안을 자동으로 작성합니다.\n",
      "\n",
      "이러한 기능을 구현하기 위해서는 먼저 국내외 시장에서 제공되는 모든 정부 지원 프로그램의 데이터베이스 구축이 필수적입니다. 각 프로그램의 신청 조건, 혜택, 기한 등을 포함한 상세 정보를 지속적으로 업데이트하여 최신 상태를 유지해야 합니다. 이는 정부 기관과의 협력 또는 공공 데이터 포털을 통해 자료를 수집함으로써 가능합니다.\n",
      "\n",
      "다음 단계로는 AI 알고리즘의 개발입니다. AI는 머신러닝 기술을 활용하여 사용자의 입력 데이터를 바탕으로 적합한 지원사업을 추천하고, 텍스트 생성 모델을 통해 사용자 맞춤형 사업계획서 초안을 작성할 수 있어야 합니다. 이를 위해 자연어 처리(NLP)와 딥러닝 기술이 적용될 것입니다. 특히 오픈AI GPT-3와 같은 고도화된 언어 모델을 기반으로 하여 효율성과 정확성을 높일 계획입니다.\n",
      "\n",
      "개발 일정은 초기 데이터베이스 구축 및 AI 알고리즘 설계를 6개월 내로 완료하고, 이후 3개월간 베타 테스트 기간을 거쳐 최종 출시하는 것을 목표로 하고 있습니다. 이러한 일정을 달성하기 위해 내부 개발팀 외에도 외주 전문가와 협력하여 작업량 분배와 전문성 강화를 도모할 예정입니다.\n",
      "\n",
      "결론적으로 이 서비스는 소상공인의 정보 접근성과 활용 능력을 극대화함으로써 시간과 비용 절감 효과를 제공합니다. 더불어 창업 문턱을 낮추고 성공 확률을 높이는 데 크게 기여할 것으로 기대됩니다.\n",
      "\n"
     ]
    }
   ],
   "source": [
    "# 2. 실현 가능성 항목 \n",
    "\n",
    "prompt_2 = f\"\"\"\n",
    "당신은 기존 창업가의 아이디어를 구체화하고 사업 가능성을 검증하는 사업계획서 작성 전문가입니다. \n",
    "{item_info}정보를 바탕으로 {kosme_template}템플릿 양식을 철저히 지켜 작성하며,\n",
    "{kosme_pass}를 필수적으로 참고하세요.\n",
    "아래 항목에 대해 각각 15줄 이상 상세히 답변해주세요. 반드시 답변마다 별도의 문단을 생성하고, 간결함보다 완전성을 우선시합니다\n",
    "이 사업계획서는 내 생계가 달린 아주 중요한 작업입니다.\n",
    "다음 정보를 바탕으로 아이디어 검증 및 사업 구체화를 위한 사업계획서에서 제품 및 서비스의 개발 방안 부분만 작성해 주세요.\n",
    "관련된 정보를 더 찾아서 사업아이템을 구체화해줘도 좋습니다.\n",
    "'특히' 또는 '결론적으로' 같은 단어가 있다면 줄바꿈을 해주세요.\n",
    "\n",
    "실현 가능성 1: {item_info['제품 및 서비스의 개발 방안']}\n",
    "\n",
    "**반드시 지켜야 할 출력 규칙**\n",
    "1. 절대 #, *, - 기호 및 마크다운 스타일 절대 금지\n",
    "2. 항목 표시 시 \"1)\", \"2)\" 형식만 사용 (숫자+닫는 괄호)\n",
    "3. 데이터 출처 명시 : 모든 통계 수치에 출처를 포함\n",
    "4. 문장이 끝나면 띄어쓰기를 할것\n",
    "\n",
    "예시 출력: \n",
    "2. 실현 가능성\n",
    "   1) 제품 및 서비스의 개발 방안 :\n",
    "      본 제품은 시장의 OOO한 문제를 해결하기 위해 개발되었습니다...  \n",
    "\n",
    " \n",
    "\"\"\"\n",
    "\n",
    "# OpenAI API를 사용하여 사업계획서 초안 생성\n",
    "completion = client.chat.completions.create(model='gpt-4o',\n",
    "                                                messages=[{'role':'system','content': prompt_2}],\n",
    "                                                            temperature=0.7,\n",
    "                                                            presence_penalty=0.8,\n",
    "                                                            frequency_penalty=0.5,\n",
    "                                                            max_tokens = 4000)\n",
    "                                                            \n",
    "# presence_penalty: 이 값을 0.5~1.0 정도로 설정하면 모델이 새로운 주제나 단어를 도입하는 경향이 증가하여 출력의 다양성이 높아집니다.\n",
    "# frequency_penalty: 이 값을 0.5~1.0 정도로 설정하면 특정 단어의 반복 사용을 억제하여 출력의 품질을 향상시킬 수 있습니다.\n",
    "\n",
    "# 생성된 사업계획서 초안 출력\n",
    "사업계획서_초안2 = completion.choices[0].message.content\n",
    "사업계획서_초안2 = 사업계획서_초안2.replace(\"### \", \"\")  # 자동으로 붙은 '### '을 제거  \n",
    "print(\"사업계획서 초안 :\\n\", 사업계획서_초안2)"
   ]
  },
  {
   "cell_type": "code",
   "execution_count": 8,
   "id": "bc69d77d",
   "metadata": {
    "execution": {
     "iopub.execute_input": "2025-04-01T09:23:59.540020Z",
     "iopub.status.busy": "2025-04-01T09:23:59.540020Z",
     "iopub.status.idle": "2025-04-01T09:24:19.749644Z",
     "shell.execute_reply": "2025-04-01T09:24:19.749644Z"
    },
    "papermill": {
     "duration": 20.214244,
     "end_time": "2025-04-01T09:24:19.749644",
     "exception": false,
     "start_time": "2025-04-01T09:23:59.535400",
     "status": "completed"
    },
    "tags": []
   },
   "outputs": [
    {
     "name": "stdout",
     "output_type": "stream",
     "text": [
      "사업계획서 초안 :\n",
      " 3. 성장 전략  \n",
      "   \n",
      "1) 내수시장 확보 방안 경쟁 및 판매가능성 :  \n",
      "   본 서비스는 소상공인의 정보 접근성을 높이고 정부 지원 사업의 혜택을 최대한 활용할 수 있도록 개발되었습니다.  \n",
      "   현재 국내 소상공인은 약 600만 명에 이르며, 이들 중 많은 수가 정부 지원 사업에 대한 정보 부족으로 인해 적절한 혜택을 받지 못하고 있습니다(출처: 통계청, 2023).  \n",
      "   주 소비자층은 소상공인과 예비창업자로, 주요 타겟 시장은 창업 초기 단계부터 성장기를 거치는 모든 소상공인입니다.  \n",
      "   진출 시기는 개발 완료 후 즉시이며, 맞춤형 정보 제공 및 사업계획서 초안 작성 기능을 통해 빠른 시장 점유를 목표로 하고 있습니다.  \n",
      "\n",
      "   <주소비자 층 및 판매전략 표>  \n",
      "   |소비자층|타겟 시장|진출 시기|판매 전략|실적|\n",
      "   |---|---|---|---|---|\n",
      "   |소상공인 및 예비창업자|국내 전역의 창업 초기 및 성장기 소상공인|개발 완료 후 즉시|맞춤형 서비스 제공을 통한 신속한 시장 점유|-|\n",
      "\n",
      "2) 해외시장 진출 방안 경쟁 및 판매가능성 :  \n",
      "   현재 글로벌 시장에서 유사 제품들은 대부분 현지화된 정보를 제공하기 어렵고, AI 기반 맞춤형 추천 시스템이 미흡합니다.   \n",
      "   특히 북미와 유럽 등 선진시장의 경우, 창업 생태계가 활성화되어 있고 정부 지원 프로그램도 다양하게 운영되고 있어 우리 서비스의 도입 가능성이 큽니다(출처: Global Entrepreneurship Monitor, 2023).   \n",
      "   주 소비자는 해외 소기업과 스타트업으로 설정하며, 진출 시기는 내수 시장에서의 안정적인 성장을 바탕으로 한 2년 차 이후로 계획하고 있습니다.   \n",
      "   각 국가별 법률과 규제에 따라 서비스를 현지화하며, 파트너십 구축을 통해 지역 특화 콘텐츠를 보강하는 전략을 채택할 것입니다.\n",
      "\n",
      "3) 자금 조달 및 개발 방안 :  \n",
      "    AI 기반 기술 개발에는 상당한 자금이 필요하므로 창업 지원 사업과 기술 개발 지원 사업 등 정부의 다양한 지원 프로그램을 적극 활용하여 자금을 확보하고 있습니다.\n",
      "    이러한 프로그램들을 통해 초기 개발 비용 절감을 목표로 하며 이를 통해 보다 신속하게 서비스를 출시할 계획입니다.\n",
      "    <사업추진 일정(협약기간 내)>    \n",
      "    |구분|추진 내용|추진 기간|세부 내용|\n",
      "    |---|---|---|---|\n",
      "    |1단계|AI 모델 연구개발 착수 및 프로토타입 제작 준비 단계 |6개월|- 데이터 수집 및 전처리<br>- 알고리즘 선정 및 테스트|\n",
      "    |2단계|서비스 플랫폼 구축 & 베타 테스트 실시 |4개월|- 웹/앱 인터페이스 설계<br>- 사용자 피드백 반영 개선작업|\n",
      "    |3단계|정식 서비스 런칭 & 마케팅 활동 개시 |2개월|- 온오프라인 홍보 캠페인 진행<br>- B2B 협력망 확장|\n",
      "\n",
      "    <사업비 집행 계획>\n",
      "     *\"정부지원사업비는 총 사업비의 70% 이하, 현금은 10% 이상, 현물은 20% 이하로 작성하세요.(최대 1억원 한도 이내)\"라고 적어주세요.\n",
      "     - 정부지원사업비가 총 사업비의 규정을 초과하지 않도록 주의하세요.\n",
      "\n",
      "\n"
     ]
    }
   ],
   "source": [
    "# 3. 성장 전략 항목 \n",
    "\n",
    "prompt_3 = f\"\"\"\n",
    "당신은 기존 창업가의 아이디어를 구체화하고 사업 가능성을 검증하는 사업계획서 작성 전문가입니다. \n",
    "{item_info}정보를 바탕으로 {kosme_template}템플릿 양식을 철저히 지켜 작성하며,\n",
    "{kosme_pass}를 필수적으로 참고하세요.\n",
    "아래 항목에 대해 각각 15줄 이상 상세히 답변해주세요. 반드시 답변마다 별도의 문단을 생성하고, 간결함보다 완전성을 우선시합니다\n",
    "이 사업계획서는 내 생계가 달린 아주 중요한 작업입니다.\n",
    "다음 정보를 바탕으로 아이디어 검증 및 사업 구체화를 위한 사업계획서에서 시장진입 및 성과창출 전략에서 내수시장 확보 방안(경쟁 및 판매가능성)과 해외시장 진출 방안(경쟁 및 판매가능성), 자금소요 및 조달계획 부분만 작성해 주세요.\n",
    "관련된 정보를 더 찾아서 사업아이템을 구체화해줘도 좋습니다.\n",
    "'특히' 또는 '결론적으로' 같은 단어가 있다면 줄바꿈을 해주세요.\n",
    "\n",
    "성장 전략 1: {item_info['내수시장 확보 방안 경쟁 및 판매가능성']}\n",
    "성장 전략 2: {item_info['해외시장 진출 방안 경쟁 및 판매가능성']}\n",
    "성장 전략 3: {item_info['자금 조달 및 개발 방안']}\n",
    "\n",
    "**반드시 지켜야 할 출력 규칙**\n",
    "1. 절대 #, *, - 기호 및 마크다운 스타일 절대 금지\n",
    "2. 항목 표시 시 \"1)\", \"2)\" 형식만 사용 (숫자+닫는 괄호)\n",
    "3. 데이터 출처 명시 : 모든 통계 수치에 출처를 포함\n",
    "4. 문장이 끝나면 띄어쓰기를 할것\n",
    "\n",
    "예시 출력:\n",
    "3. 성장 전략  \n",
    "   1) 내수시장 확보 방안 경쟁 및 판매가능성 :\n",
    "      본 제품은 시장의 OOO한 문제를 해결하기 위해 개발되었습니다...  \n",
    "   <주소비자 층 및 판매전략 표>\n",
    "   예시) 표로 작성해주세요.(\"예시\"라는 문구를 보여주세요.)\n",
    "\n",
    "\n",
    "   2) 해외시장 진출 방안 경쟁 및 판매가능성 :\n",
    "      현재 시장에서 유사 제품은 OOO한 한계를 가지고 있으며...\n",
    "      \n",
    "   3) 자금 조달 및 개발 방안 :\n",
    "      현재 시장에서 유사 제품은 OOO한 한계를 가지고 있으며...\n",
    "      \n",
    "    <사업추진 일정(협약기간 내)>\n",
    "    예시) 표로 작성해주세요.\n",
    "    |구분|추진 내용|추진 기간|세부 내용|\n",
    "\n",
    "    <사업비 집행 계획>\n",
    "    *\"정부지원사업비는 총 사업비의 70%이하, 현금은 10%이상, 현물은 20% 이하로 작성하세요.(최대 1억원 한도 이내)\"라고 적어주세요.\n",
    "    - 정부지원사업비가 총 사업비의 규정을 초과하지 않도록 주의하세요.\n",
    "\"\"\"\n",
    "\n",
    "# OpenAI API를 사용하여 사업계획서 초안 생성\n",
    "completion = client.chat.completions.create(model='gpt-4o',\n",
    "                                                messages=[{'role':'system','content': prompt_3}],\n",
    "                                                            temperature=0.7,\n",
    "                                                            presence_penalty=0.8,\n",
    "                                                            frequency_penalty=0.5,\n",
    "                                                            max_tokens = 4000)\n",
    "                                                            \n",
    "# presence_penalty: 이 값을 0.5~1.0 정도로 설정하면 모델이 새로운 주제나 단어를 도입하는 경향이 증가하여 출력의 다양성이 높아집니다.\n",
    "# frequency_penalty: 이 값을 0.5~1.0 정도로 설정하면 특정 단어의 반복 사용을 억제하여 출력의 품질을 향상시킬 수 있습니다.\n",
    "\n",
    "# 생성된 사업계획서 초안 출력\n",
    "사업계획서_초안3 = completion.choices[0].message.content\n",
    "사업계획서_초안3 = 사업계획서_초안3.replace(\"### \", \"\")  # 자동으로 붙은 '### '을 제거  \n",
    "print(\"사업계획서 초안 :\\n\", 사업계획서_초안3)"
   ]
  },
  {
   "cell_type": "code",
   "execution_count": null,
   "id": "01ffdd74",
   "metadata": {
    "papermill": {
     "duration": null,
     "end_time": null,
     "exception": false,
     "start_time": "2025-04-01T09:24:19.754611",
     "status": "running"
    },
    "tags": []
   },
   "outputs": [],
   "source": [
    "# 4. 팀 구성 항목 \n",
    "\n",
    "prompt_4 = f\"\"\"\n",
    "당신은 기존 창업가의 아이디어를 구체화하고 사업 가능성을 검증하는 사업계획서 작성 전문가입니다. \n",
    "{item_info}정보를 바탕으로 {kosme_template}템플릿 양식을 철저히 지켜 작성하며,\n",
    "{kosme_pass}를 필수적으로 참고하세요.\n",
    "아래 항목에 대해 각각 15줄 이상 상세히 답변해주세요. 반드시 답변마다 별도의 문단을 생성하고, 간결함보다 완전성을 우선시합니다\n",
    "이 사업계획서는 내 생계가 달린 아주 중요한 작업입니다.\n",
    "다음 정보를 바탕으로 아이디어 검증 및 사업 구체화를 위한 사업계획서에서 대표자 및 직원의 보유역량 및 기술보호 노력, 사회적 가치 실천계획 부분, 지역특화 아이디어 기반 사업추진계획만 작성해 주세요.\n",
    "관련된 정보를 더 찾아서 사업아이템을 구체화해줘도 좋습니다.\n",
    "'특히' 또는 '결론적으로' 같은 단어가 있다면 줄바꿈을 해주세요.\n",
    "\n",
    "팀 구성 1: {item_info['대표자 및 직원의 보유역량 및 기술보호 노력']}\n",
    "팀 구성 2: {item_info['사회적 가치 실천계획']}\n",
    "팀 구성 3: {item_info['지역특화 아이디어 기반 사업추진계획']}\n",
    "\n",
    "**반드시 지켜야 할 출력 규칙**\n",
    "1. 절대 #, *, - 기호 및 마크다운 스타일 절대 금지\n",
    "2. 항목 표시 시 \"1)\", \"2)\" 형식만 사용 (숫자+닫는 괄호)\n",
    "3. 데이터 출처 명시 : 모든 통계 수치에 출처를 포함\n",
    "4. 문장이 끝나면 띄어쓰기를 할것\n",
    "\n",
    "예시 출력: \n",
    "4. 팀 구성\n",
    "1) 대표자 및 직원의 보유역량 및 기술보호 노력 :\n",
    "   본 제품은 시장의 OOO한 문제를 해결하기 위해 개발되었습니다...  \n",
    "\n",
    "2) 사회적 가치 실천계획 :\n",
    "   현재 시장에서 유사 제품은 OOO한 한계를 가지고 있으며... \n",
    "    \n",
    "3) 지역특화 아이디어 기반 사업추진계획 : \n",
    "   현재 시장에서 유사 제품은 OOO한 한계를 가지고 있으며...  \n",
    "   \n",
    "<팀 구성 표>\n",
    "예시) 표로 작성해주세요.(\"예시\"라는 문구를 보여주세요.)\n",
    "\"\"\"\n",
    "\n",
    "# OpenAI API를 사용하여 사업계획서 초안 생성\n",
    "completion = client.chat.completions.create(model='gpt-4o',\n",
    "                                                messages=[{'role':'system','content': prompt_4}],\n",
    "                                                            temperature=0.7,\n",
    "                                                            presence_penalty=0.8,\n",
    "                                                            frequency_penalty=0.5,\n",
    "                                                            max_tokens = 4000)\n",
    "                                                            \n",
    "# presence_penalty: 이 값을 0.5~1.0 정도로 설정하면 모델이 새로운 주제나 단어를 도입하는 경향이 증가하여 출력의 다양성이 높아집니다.\n",
    "# frequency_penalty: 이 값을 0.5~1.0 정도로 설정하면 특정 단어의 반복 사용을 억제하여 출력의 품질을 향상시킬 수 있습니다.\n",
    "\n",
    "# 생성된 사업계획서 초안 출력\n",
    "사업계획서_초안4 = completion.choices[0].message.content\n",
    "사업계획서_초안4 = 사업계획서_초안4.replace(\"### \", \"\")  # 자동으로 붙은 '### '을 제거  \n",
    "print(\"사업계획서 초안 :\\n\", 사업계획서_초안4)"
   ]
  },
  {
   "cell_type": "code",
   "execution_count": null,
   "id": "1f094754",
   "metadata": {
    "papermill": {
     "duration": null,
     "end_time": null,
     "exception": null,
     "start_time": null,
     "status": "pending"
    },
    "tags": []
   },
   "outputs": [],
   "source": [
    "ccs_dict = {'초안1': 사업계획서_초안1,\n",
    "            '초안2': 사업계획서_초안2,\n",
    "            '초안3': 사업계획서_초안3,\n",
    "            '초안4': 사업계획서_초안4}"
   ]
  },
  {
   "cell_type": "code",
   "execution_count": null,
   "id": "778bfef4",
   "metadata": {
    "papermill": {
     "duration": null,
     "end_time": null,
     "exception": null,
     "start_time": null,
     "status": "pending"
    },
    "tags": []
   },
   "outputs": [],
   "source": [
    "# 딕셔너리 데이터를 JSON 파일로 저장\n",
    "with open('business_plan/청년창업사관학교_사업계획서.json', 'w', encoding='utf-8') as file:\n",
    "    json.dump(ccs_dict, file, ensure_ascii=False, indent=4)"
   ]
  },
  {
   "cell_type": "code",
   "execution_count": null,
   "id": "29ea1e5e",
   "metadata": {
    "papermill": {
     "duration": null,
     "end_time": null,
     "exception": null,
     "start_time": null,
     "status": "pending"
    },
    "tags": []
   },
   "outputs": [],
   "source": [
    "# 예비창업패키지\n",
    "# 초기창업패키지\n",
    "\n",
    "# 문서 생성\n",
    "doc = Document()\n",
    "\n",
    "# 정규식을 사용하여 각 초안을 띄어쓰기 기준으로 나눔\n",
    "for _, value in ccs_dict.items():\n",
    "    re_text = re.split(r'\\n\\n', value)\n",
    "\n",
    "    for idx in re_text:\n",
    "\n",
    "        if '|' in idx:\n",
    "            text = idx.split('|')\n",
    "            doc.add_paragraph(text[0])\n",
    "\n",
    "            data = text[1:-1]\n",
    "\n",
    "            # '---'가 포함된 항목 제거 및 공백 정리\n",
    "            filtered_data = [item.strip() for item in data if '-' not in item and item]\n",
    "\n",
    "            # 데이터를 표 형식(2D 리스트)으로 변환\n",
    "            table_data = []\n",
    "            row = []\n",
    "\n",
    "            for item in filtered_data:\n",
    "                if item == \"\":  # 빈 문자열(\\n 변환)일 경우 새로운 행 시작\n",
    "                    if row:  # 현재까지 저장된 행이 있다면 추가\n",
    "                        table_data.append(row)\n",
    "                        row = []\n",
    "                else:\n",
    "                    row.append(item)\n",
    "\n",
    "            # 마지막 행 추가 (루프 종료 후 남은 데이터 처리)\n",
    "            if row:\n",
    "                table_data.append(row)\n",
    "\n",
    "            # 첫 번째 행을 자동으로 컬럼명으로 설정\n",
    "            if table_data:\n",
    "                headers = table_data.pop(0)  # 첫 번째 행을 컬럼명으로 설정\n",
    "                table_data.insert(0, headers)  # 다시 삽입 (명확하게 구분하기 위함)\n",
    "\n",
    "\n",
    "            # 표 생성 (행 개수는 데이터 행 개수, 열 개수는 첫 번째 행의 열 개수 기준)\n",
    "            table = doc.add_table(rows=len(table_data), cols=len(table_data[0]))\n",
    "\n",
    "            # 표 스타일 적용 (선택 사항: 표 테두리 추가)\n",
    "            table.style = \"Table Grid\"\n",
    "\n",
    "            # 표 데이터 삽입\n",
    "            for row_idx, row_data in enumerate(table_data):\n",
    "                for col_idx, cell_data in enumerate(row_data):\n",
    "                    cell = table.cell(row_idx, col_idx)\n",
    "                    cell.text = str(cell_data)  # 데이터 삽입\n",
    "                    \n",
    "                    # 첫 번째 행(컬럼명)은 굵게 표시\n",
    "                    if row_idx == 0:\n",
    "                        for paragraph in cell.paragraphs:\n",
    "                            for run in paragraph.runs:\n",
    "                                run.bold = True  # 글씨 굵게\n",
    "                                run.font.size = Pt(12)  # 글씨 크기 조정 (선택 사항)\n",
    "\n",
    "            doc.add_paragraph(text[-1])\n",
    "\n",
    "        else:\n",
    "            doc.add_paragraph(idx)\n",
    "\n",
    "    doc.add_paragraph('\\n\\n') # 나눴던 구분자를 다시 집어넣음\n",
    "    \n",
    "# 파일 저장\n",
    "doc.save(\"business_plan/청년창업사관학교_초안.docx\")\n",
    "\n",
    "print(\"Word 파일이 성공적으로 생성되었습니다!\")"
   ]
  },
  {
   "cell_type": "code",
   "execution_count": null,
   "id": "ce3c6844",
   "metadata": {
    "papermill": {
     "duration": null,
     "end_time": null,
     "exception": null,
     "start_time": null,
     "status": "pending"
    },
    "tags": []
   },
   "outputs": [],
   "source": [
    "convert(\"business_plan/청년창업사관학교_초안.docx\", \"business_plan/청년창업사관학교_초안.pdf\")"
   ]
  }
 ],
 "metadata": {
  "kernelspec": {
   "display_name": "new",
   "language": "python",
   "name": "python3"
  },
  "language_info": {
   "codemirror_mode": {
    "name": "ipython",
    "version": 3
   },
   "file_extension": ".py",
   "mimetype": "text/x-python",
   "name": "python",
   "nbconvert_exporter": "python",
   "pygments_lexer": "ipython3",
   "version": "3.12.8"
  },
  "papermill": {
   "default_parameters": {},
   "duration": null,
   "end_time": null,
   "environment_variables": {},
   "exception": null,
   "input_path": "business_plan/청년창업사관학교.ipynb",
   "output_path": "business_plan/output.ipynb",
   "parameters": {
    "item_info": {
     "경쟁사 분석": "기존 사업계획서 컨설팅 업체, 정부 지원 사업 정보 제공 플랫폼 등이 경쟁사입니다. AI 기반 사업계획서 작성 서비스를 제공하는 독스헌트와 펄스웨이브가 대표적입니다.",
     "내수시장 확보 방안 경쟁 및 판매가능성": "AI 기반 맞춤형 정보 제공 및 사업계획서 초안 작성 기능을 통해 경쟁 우위를 확보합니다.",
     "대표자 및 직원의 보유역량 및 기술보호 노력": "AI 개발, 웹 개발, 마케팅, 컨설팅 등 각 분야의 전문성을 갖춘 직원들이 서비스를 개발하고 운영합니다.",
     "사회적 가치 실천계획": "소상공인의 성공적인 창업 및 성장을 지원하여 지역 경제 활성화에 기여합니다.",
     "시장 규모": "국내 소상공인 수는 약 600만 명으로, 잠재 시장 규모가 매우 큽니다.",
     "아이템 명": "떴다",
     "아이템 소개": "소상공인을 위한 맞춤형 정부 지원 사업 추천 및 사업계획서 초안 작성 AI 서비스",
     "자금 조달 및 개발 방안": "창업 지원 사업, 기술 개발 지원 사업 등 정부 지원 사업을 적극적으로 활용하여 개발 자금을 확보합니다.",
     "제품 및 서비스 개발동기": "소상공인의 정보 접근성 및 활용의 어려움으로 정부지원사업의 혜택을 잘 받지 못하고 있고 또한 창업패키지 경쟁률이 높아지며 생성형 AI를 활용한 사업계획서 작성 교육의 수요가 증가하고 있는 추세",
     "제품 및 서비스의 개발 방안": "소상공인의 사업 유형, 규모, 지역 등을 분석하여 최적의 정부 지원 사업 정보를 제공하고 소상공인의 사업 아이템, 목표, 전략 등을 입력하면 AI가 사업계획서 초안을 자동으로 작성합니다",
     "제품 및 서비스의 목적_필요성": "복잡하고 다양한 정부 지원 사업 정보를 소상공인에게 맞춤형으로 제공하여 정보 접근성을 높이고 소상공인의 시간과 비용을 절감할 수 있어 창업의 장벽을 낮출 수 있음",
     "지역특화 아이디어 기반 사업추진계획": "지역 특화 산업 및 정부 지원 사업에 대한 전문 컨설팅을 제공합니다",
     "타겟 고객": "소상공인, 예비창업자, 소기업",
     "해외시장 진출 방안 경쟁 및 판매가능성": ""
    }
   },
   "start_time": "2025-04-01T09:23:16.720116",
   "version": "2.6.0"
  }
 },
 "nbformat": 4,
 "nbformat_minor": 5
}
