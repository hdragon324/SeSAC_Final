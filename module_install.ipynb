{
 "cells": [
  {
   "cell_type": "code",
   "execution_count": null,
   "metadata": {},
   "outputs": [],
   "source": [
    "!pip install requests beautifulsoup4 python-docx docx2pdf langchain sentence-transformers tiktoken opencv-python pillow matplotlib olefile streamlit streamlit-antd-components papermill tqdm pyyaml\n"
   ]
  }
 ],
 "metadata": {
  "language_info": {
   "name": "python"
  }
 },
 "nbformat": 4,
 "nbformat_minor": 2
}
